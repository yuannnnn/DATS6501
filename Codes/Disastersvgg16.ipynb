{
  "nbformat": 4,
  "nbformat_minor": 0,
  "metadata": {
    "colab": {
      "name": "Disastersvgg16.ipynb",
      "provenance": [],
      "authorship_tag": "ABX9TyOTjnxcgBE2LLw8wnfZsY4w",
      "include_colab_link": true
    },
    "kernelspec": {
      "name": "python3",
      "display_name": "Python 3"
    },
    "language_info": {
      "name": "python"
    },
    "accelerator": "GPU",
    "widgets": {
      "application/vnd.jupyter.widget-state+json": {
        "6b86f43292914ca984875ef78984a702": {
          "model_module": "@jupyter-widgets/controls",
          "model_name": "HBoxModel",
          "model_module_version": "1.5.0",
          "state": {
            "_view_name": "HBoxView",
            "_dom_classes": [],
            "_model_name": "HBoxModel",
            "_view_module": "@jupyter-widgets/controls",
            "_model_module_version": "1.5.0",
            "_view_count": null,
            "_view_module_version": "1.5.0",
            "box_style": "",
            "layout": "IPY_MODEL_4416126f2d8648368fca2ca9a6aba96c",
            "_model_module": "@jupyter-widgets/controls",
            "children": [
              "IPY_MODEL_7a05a124fe6947109ad62dcbbfbf6e4d",
              "IPY_MODEL_8e0c3647bce94f17a40dd5c20cf7d7a5",
              "IPY_MODEL_1a8790f4060f464ab71ee366be90e384"
            ]
          }
        },
        "4416126f2d8648368fca2ca9a6aba96c": {
          "model_module": "@jupyter-widgets/base",
          "model_name": "LayoutModel",
          "model_module_version": "1.2.0",
          "state": {
            "_view_name": "LayoutView",
            "grid_template_rows": null,
            "right": null,
            "justify_content": null,
            "_view_module": "@jupyter-widgets/base",
            "overflow": null,
            "_model_module_version": "1.2.0",
            "_view_count": null,
            "flex_flow": null,
            "width": null,
            "min_width": null,
            "border": null,
            "align_items": null,
            "bottom": null,
            "_model_module": "@jupyter-widgets/base",
            "top": null,
            "grid_column": null,
            "overflow_y": null,
            "overflow_x": null,
            "grid_auto_flow": null,
            "grid_area": null,
            "grid_template_columns": null,
            "flex": null,
            "_model_name": "LayoutModel",
            "justify_items": null,
            "grid_row": null,
            "max_height": null,
            "align_content": null,
            "visibility": null,
            "align_self": null,
            "height": null,
            "min_height": null,
            "padding": null,
            "grid_auto_rows": null,
            "grid_gap": null,
            "max_width": null,
            "order": null,
            "_view_module_version": "1.2.0",
            "grid_template_areas": null,
            "object_position": null,
            "object_fit": null,
            "grid_auto_columns": null,
            "margin": null,
            "display": null,
            "left": null
          }
        },
        "7a05a124fe6947109ad62dcbbfbf6e4d": {
          "model_module": "@jupyter-widgets/controls",
          "model_name": "HTMLModel",
          "model_module_version": "1.5.0",
          "state": {
            "_view_name": "HTMLView",
            "style": "IPY_MODEL_aa506727fa444417ae3156d4b597b7c4",
            "_dom_classes": [],
            "description": "",
            "_model_name": "HTMLModel",
            "placeholder": "​",
            "_view_module": "@jupyter-widgets/controls",
            "_model_module_version": "1.5.0",
            "value": "100%",
            "_view_count": null,
            "_view_module_version": "1.5.0",
            "description_tooltip": null,
            "_model_module": "@jupyter-widgets/controls",
            "layout": "IPY_MODEL_1e7a087b2dfc49229e5aa95764ea6529"
          }
        },
        "8e0c3647bce94f17a40dd5c20cf7d7a5": {
          "model_module": "@jupyter-widgets/controls",
          "model_name": "FloatProgressModel",
          "model_module_version": "1.5.0",
          "state": {
            "_view_name": "ProgressView",
            "style": "IPY_MODEL_437b1f6dfec046b1955d7df283ddb0b9",
            "_dom_classes": [],
            "description": "",
            "_model_name": "FloatProgressModel",
            "bar_style": "success",
            "max": 553433881,
            "_view_module": "@jupyter-widgets/controls",
            "_model_module_version": "1.5.0",
            "value": 553433881,
            "_view_count": null,
            "_view_module_version": "1.5.0",
            "orientation": "horizontal",
            "min": 0,
            "description_tooltip": null,
            "_model_module": "@jupyter-widgets/controls",
            "layout": "IPY_MODEL_c80ab84e8458462e9e1d7eebe30a7d86"
          }
        },
        "1a8790f4060f464ab71ee366be90e384": {
          "model_module": "@jupyter-widgets/controls",
          "model_name": "HTMLModel",
          "model_module_version": "1.5.0",
          "state": {
            "_view_name": "HTMLView",
            "style": "IPY_MODEL_d092c1bfae364db59fa39eb33011611a",
            "_dom_classes": [],
            "description": "",
            "_model_name": "HTMLModel",
            "placeholder": "​",
            "_view_module": "@jupyter-widgets/controls",
            "_model_module_version": "1.5.0",
            "value": " 528M/528M [00:20&lt;00:00, 30.8MB/s]",
            "_view_count": null,
            "_view_module_version": "1.5.0",
            "description_tooltip": null,
            "_model_module": "@jupyter-widgets/controls",
            "layout": "IPY_MODEL_ae92907b4a254855be0d838fce99e408"
          }
        },
        "aa506727fa444417ae3156d4b597b7c4": {
          "model_module": "@jupyter-widgets/controls",
          "model_name": "DescriptionStyleModel",
          "model_module_version": "1.5.0",
          "state": {
            "_view_name": "StyleView",
            "_model_name": "DescriptionStyleModel",
            "description_width": "",
            "_view_module": "@jupyter-widgets/base",
            "_model_module_version": "1.5.0",
            "_view_count": null,
            "_view_module_version": "1.2.0",
            "_model_module": "@jupyter-widgets/controls"
          }
        },
        "1e7a087b2dfc49229e5aa95764ea6529": {
          "model_module": "@jupyter-widgets/base",
          "model_name": "LayoutModel",
          "model_module_version": "1.2.0",
          "state": {
            "_view_name": "LayoutView",
            "grid_template_rows": null,
            "right": null,
            "justify_content": null,
            "_view_module": "@jupyter-widgets/base",
            "overflow": null,
            "_model_module_version": "1.2.0",
            "_view_count": null,
            "flex_flow": null,
            "width": null,
            "min_width": null,
            "border": null,
            "align_items": null,
            "bottom": null,
            "_model_module": "@jupyter-widgets/base",
            "top": null,
            "grid_column": null,
            "overflow_y": null,
            "overflow_x": null,
            "grid_auto_flow": null,
            "grid_area": null,
            "grid_template_columns": null,
            "flex": null,
            "_model_name": "LayoutModel",
            "justify_items": null,
            "grid_row": null,
            "max_height": null,
            "align_content": null,
            "visibility": null,
            "align_self": null,
            "height": null,
            "min_height": null,
            "padding": null,
            "grid_auto_rows": null,
            "grid_gap": null,
            "max_width": null,
            "order": null,
            "_view_module_version": "1.2.0",
            "grid_template_areas": null,
            "object_position": null,
            "object_fit": null,
            "grid_auto_columns": null,
            "margin": null,
            "display": null,
            "left": null
          }
        },
        "437b1f6dfec046b1955d7df283ddb0b9": {
          "model_module": "@jupyter-widgets/controls",
          "model_name": "ProgressStyleModel",
          "model_module_version": "1.5.0",
          "state": {
            "_view_name": "StyleView",
            "_model_name": "ProgressStyleModel",
            "description_width": "",
            "_view_module": "@jupyter-widgets/base",
            "_model_module_version": "1.5.0",
            "_view_count": null,
            "_view_module_version": "1.2.0",
            "bar_color": null,
            "_model_module": "@jupyter-widgets/controls"
          }
        },
        "c80ab84e8458462e9e1d7eebe30a7d86": {
          "model_module": "@jupyter-widgets/base",
          "model_name": "LayoutModel",
          "model_module_version": "1.2.0",
          "state": {
            "_view_name": "LayoutView",
            "grid_template_rows": null,
            "right": null,
            "justify_content": null,
            "_view_module": "@jupyter-widgets/base",
            "overflow": null,
            "_model_module_version": "1.2.0",
            "_view_count": null,
            "flex_flow": null,
            "width": null,
            "min_width": null,
            "border": null,
            "align_items": null,
            "bottom": null,
            "_model_module": "@jupyter-widgets/base",
            "top": null,
            "grid_column": null,
            "overflow_y": null,
            "overflow_x": null,
            "grid_auto_flow": null,
            "grid_area": null,
            "grid_template_columns": null,
            "flex": null,
            "_model_name": "LayoutModel",
            "justify_items": null,
            "grid_row": null,
            "max_height": null,
            "align_content": null,
            "visibility": null,
            "align_self": null,
            "height": null,
            "min_height": null,
            "padding": null,
            "grid_auto_rows": null,
            "grid_gap": null,
            "max_width": null,
            "order": null,
            "_view_module_version": "1.2.0",
            "grid_template_areas": null,
            "object_position": null,
            "object_fit": null,
            "grid_auto_columns": null,
            "margin": null,
            "display": null,
            "left": null
          }
        },
        "d092c1bfae364db59fa39eb33011611a": {
          "model_module": "@jupyter-widgets/controls",
          "model_name": "DescriptionStyleModel",
          "model_module_version": "1.5.0",
          "state": {
            "_view_name": "StyleView",
            "_model_name": "DescriptionStyleModel",
            "description_width": "",
            "_view_module": "@jupyter-widgets/base",
            "_model_module_version": "1.5.0",
            "_view_count": null,
            "_view_module_version": "1.2.0",
            "_model_module": "@jupyter-widgets/controls"
          }
        },
        "ae92907b4a254855be0d838fce99e408": {
          "model_module": "@jupyter-widgets/base",
          "model_name": "LayoutModel",
          "model_module_version": "1.2.0",
          "state": {
            "_view_name": "LayoutView",
            "grid_template_rows": null,
            "right": null,
            "justify_content": null,
            "_view_module": "@jupyter-widgets/base",
            "overflow": null,
            "_model_module_version": "1.2.0",
            "_view_count": null,
            "flex_flow": null,
            "width": null,
            "min_width": null,
            "border": null,
            "align_items": null,
            "bottom": null,
            "_model_module": "@jupyter-widgets/base",
            "top": null,
            "grid_column": null,
            "overflow_y": null,
            "overflow_x": null,
            "grid_auto_flow": null,
            "grid_area": null,
            "grid_template_columns": null,
            "flex": null,
            "_model_name": "LayoutModel",
            "justify_items": null,
            "grid_row": null,
            "max_height": null,
            "align_content": null,
            "visibility": null,
            "align_self": null,
            "height": null,
            "min_height": null,
            "padding": null,
            "grid_auto_rows": null,
            "grid_gap": null,
            "max_width": null,
            "order": null,
            "_view_module_version": "1.2.0",
            "grid_template_areas": null,
            "object_position": null,
            "object_fit": null,
            "grid_auto_columns": null,
            "margin": null,
            "display": null,
            "left": null
          }
        }
      }
    }
  },
  "cells": [
    {
      "cell_type": "markdown",
      "metadata": {
        "id": "view-in-github",
        "colab_type": "text"
      },
      "source": [
        "<a href=\"https://colab.research.google.com/github/yuannnnn/DATS6501/blob/main/Disastersvgg16.ipynb\" target=\"_parent\"><img src=\"https://colab.research.google.com/assets/colab-badge.svg\" alt=\"Open In Colab\"/></a>"
      ]
    },
    {
      "cell_type": "markdown",
      "metadata": {
        "id": "38jYnIcr6NJD"
      },
      "source": [
        "# Data Loading & Processing"
      ]
    },
    {
      "cell_type": "code",
      "metadata": {
        "colab": {
          "base_uri": "https://localhost:8080/"
        },
        "id": "GWA1-XJJboQx",
        "outputId": "6fa65db8-4855-4952-bdc1-f1aa8f377757"
      },
      "source": [
        "from google.colab import drive\n",
        "import sys\n",
        "\n",
        "# Mount Google Drive\n",
        "drive.mount('/content/drive')\n",
        "\n",
        "curr = '/content/drive/My Drive/Colab Notebooks/'"
      ],
      "execution_count": null,
      "outputs": [
        {
          "output_type": "stream",
          "name": "stdout",
          "text": [
            "Mounted at /content/drive\n"
          ]
        }
      ]
    },
    {
      "cell_type": "code",
      "metadata": {
        "id": "CjDV3GtgXHUa"
      },
      "source": [
        "import os\n",
        "\n",
        "if \"crisis_vision_benchmarks\" not in os.listdir():\n",
        "    os.system(\"wget https://crisisnlp.qcri.org/data/crisis_image_datasets_benchmarks/crisis_vision_benchmarks.tar.gz\")\n",
        "    os.system(\"tar xf crisis_vision_benchmarks.tar.gz\")"
      ],
      "execution_count": null,
      "outputs": []
    },
    {
      "cell_type": "code",
      "metadata": {
        "id": "CQmLA9bqReCN"
      },
      "source": [
        "import pandas as pd\n",
        "from PIL import Image\n",
        "from sklearn.preprocessing import LabelEncoder\n",
        "from torch.utils.data import Dataset, DataLoader\n",
        "\n",
        "class CustomImageDataset(Dataset):\n",
        "    def __init__(self, path, transform=None):\n",
        "        self.pre = os.getcwd() + \"/crisis_vision_benchmarks\"\n",
        "        path = pd.read_csv(path, sep='\\t')\n",
        "        image_path, class_label = path['image_path'], path['class_label']\n",
        "        self.img, lab = [], []\n",
        "        for i in range(len(class_label)):\n",
        "          if class_label[i] != 'other_disaster':\n",
        "            self.img.append(image_path[i])\n",
        "            lab.append(class_label[i])\n",
        "        self.le = LabelEncoder()\n",
        "        self.le.fit(lab)\n",
        "        self.labels = self.le.transform(lab)\n",
        "        self.transform = transform\n",
        "\n",
        "    def __len__(self):\n",
        "        return len(self.img)\n",
        "\n",
        "    def le(self):\n",
        "        return self.le\n",
        "\n",
        "    def __getitem__(self, idx):\n",
        "        img_path = os.path.join(self.pre, self.img[idx])\n",
        "        with open(img_path, 'rb') as f:\n",
        "          img = Image.open(f) \n",
        "          image = img.convert('RGB')\n",
        "        label = self.labels[idx]\n",
        "        if self.transform:\n",
        "            image = self.transform(image)\n",
        "        return image, label"
      ],
      "execution_count": null,
      "outputs": []
    },
    {
      "cell_type": "code",
      "metadata": {
        "id": "eELBTH0IlSsY"
      },
      "source": [
        "import torch\n",
        "import torch.nn as nn\n",
        "import torchvision\n",
        "from torchvision import models, transforms\n",
        "\n",
        "# Data augmentation and normalization for training\n",
        "# Just normalization for validation\n",
        "data_transforms = {\n",
        "    \"train\": transforms.Compose([\n",
        "        transforms.RandomResizedCrop([299,299]),\n",
        "        transforms.RandomHorizontalFlip(),\n",
        "        transforms.ToTensor(),\n",
        "        transforms.Normalize([0.485, 0.456, 0.406], [0.229, 0.224, 0.225])\n",
        "    ]),\n",
        "    \"dev\": transforms.Compose([\n",
        "        transforms.Resize([310,310]),\n",
        "        transforms.CenterCrop([299,299]),\n",
        "        transforms.ToTensor(),\n",
        "        transforms.Normalize([0.485, 0.456, 0.406], [0.229, 0.224, 0.225])\n",
        "    ]),\n",
        "}\n",
        "\n",
        "types_root = \"/content/crisis_vision_benchmarks/tasks/disaster_types/consolidated/consolidated_disaster_types_\"\n",
        "\n",
        "types_dataset = {x: CustomImageDataset(types_root + x + \"_final.tsv\", data_transforms[x])\n",
        "                  for x in [\"train\", \"dev\"]}\n",
        "\n",
        "types_loader = {x: DataLoader(types_dataset[x], batch_size=64,\n",
        "                                             shuffle=True, num_workers=2)\n",
        "                  for x in [\"train\", \"dev\"]}\n",
        "              \n",
        "types_size = {x: len(types_dataset[x]) for x in [\"train\", \"dev\"]}\n",
        "\n",
        "types_names = types_dataset['train'].le.classes_\n",
        "\n",
        "device = torch.device(\"cuda:0\" if torch.cuda.is_available() else \"cpu\")"
      ],
      "execution_count": null,
      "outputs": []
    },
    {
      "cell_type": "code",
      "metadata": {
        "id": "UB_Wkrb3jthE"
      },
      "source": [
        "types_test = CustomImageDataset(types_root + \"test_final.tsv\", data_transforms[\"dev\"])"
      ],
      "execution_count": null,
      "outputs": []
    },
    {
      "cell_type": "code",
      "metadata": {
        "colab": {
          "base_uri": "https://localhost:8080/"
        },
        "id": "TLYkPv0LjVLA",
        "outputId": "be95875e-56ae-431b-eb81-7ae437f74e35"
      },
      "source": [
        "len(types_dataset[\"train\"]),len(types_dataset[\"dev\"]),len(types_test)"
      ],
      "execution_count": null,
      "outputs": [
        {
          "output_type": "execute_result",
          "data": {
            "text/plain": [
              "(11714, 1327, 2893)"
            ]
          },
          "metadata": {},
          "execution_count": 6
        }
      ]
    },
    {
      "cell_type": "code",
      "metadata": {
        "colab": {
          "base_uri": "https://localhost:8080/"
        },
        "id": "LhECDh1KcR0c",
        "outputId": "0c243fae-c77a-43b4-c3e8-16224dfe4e35"
      },
      "source": [
        "types_names"
      ],
      "execution_count": null,
      "outputs": [
        {
          "output_type": "execute_result",
          "data": {
            "text/plain": [
              "array(['earthquake', 'fire', 'flood', 'hurricane', 'landslide',\n",
              "       'not_disaster'], dtype='<U12')"
            ]
          },
          "metadata": {},
          "execution_count": 6
        }
      ]
    },
    {
      "cell_type": "code",
      "metadata": {
        "colab": {
          "base_uri": "https://localhost:8080/",
          "height": 182
        },
        "id": "MIwSkxuAZNdN",
        "outputId": "75e70b39-9c15-448b-9f14-ef9f484c477f"
      },
      "source": [
        "import numpy as np\n",
        "import matplotlib.pyplot as plt\n",
        "\n",
        "def imshow(inp, title=None):\n",
        "    \"\"\"Imshow for Tensor.\"\"\"\n",
        "    inp = inp.numpy().transpose((1, 2, 0)) # Change the Tensor to array and change color channel to the last\n",
        "    mean = np.array([0.485, 0.456, 0.406])\n",
        "    std = np.array([0.229, 0.224, 0.225])\n",
        "    inp = std * inp + mean\n",
        "    inp = np.clip(inp, 0, 1)\n",
        "    plt.imshow(inp)\n",
        "    if title:\n",
        "        plt.title(title)\n",
        "    plt.pause(0.001)  # pause a bit so that plots are updated\n",
        "\n",
        "\n",
        "# Get a batch of training data\n",
        "inputs, classes = next(iter(types_loader['train']))\n",
        "\n",
        "# Make a grid from batch\n",
        "out = torchvision.utils.make_grid(inputs[:4])\n",
        "\n",
        "imshow(out, title=[types_names[x] for x in classes[:4]])\n",
        "\n",
        "print(f\"Feature batch shape: {inputs.size()}\")\n",
        "print(f\"Labels batch shape: {classes.size()}\")"
      ],
      "execution_count": null,
      "outputs": [
        {
          "output_type": "display_data",
          "data": {
            "image/png": "[encoded data removed]",
            "text/plain": [
              "<Figure size 432x288 with 1 Axes>"
            ]
          },
          "metadata": {
            "needs_background": "light"
          }
        },
        {
          "output_type": "stream",
          "name": "stdout",
          "text": [
            "Feature batch shape: torch.Size([64, 3, 299, 299])\n",
            "Labels batch shape: torch.Size([64])\n"
          ]
        }
      ]
    },
    {
      "cell_type": "markdown",
      "metadata": {
        "id": "L-0spuQlE6LO"
      },
      "source": [
        "# Data Modeling & Training"
      ]
    },
    {
      "cell_type": "code",
      "metadata": {
        "id": "uPy7rN6mNeo6"
      },
      "source": [
        "import torch.optim as optim\n",
        "from torch.optim import lr_scheduler\n",
        "\n",
        "import time\n",
        "import copy"
      ],
      "execution_count": null,
      "outputs": []
    },
    {
      "cell_type": "code",
      "metadata": {
        "id": "KvGBHWs6FJtD"
      },
      "source": [
        "def train_types(model, criterion, optimizer, scheduler, num_epochs):\n",
        "    since = time.time()\n",
        "\n",
        "    best_model_wts = copy.deepcopy(model.state_dict())\n",
        "    best_acc = 0.0\n",
        "\n",
        "    for epoch in range(num_epochs):\n",
        "        print('Epoch {}/{}'.format(epoch, num_epochs - 1))\n",
        "        print('-' * 10)\n",
        "\n",
        "        # Each epoch has a training and validation phase\n",
        "        for phase in ['train', 'dev']:\n",
        "            if phase == 'train':\n",
        "                model.train()  # Set model to training mode\n",
        "            else:\n",
        "                model.eval()   # Set model to evaluate mode\n",
        "\n",
        "            running_loss = 0.0\n",
        "            running_corrects = 0\n",
        "\n",
        "            # Iterate over data.\n",
        "            for inputs, labels in types_loader[phase]:\n",
        "                inputs = inputs.to(device)\n",
        "                labels = labels.to(device)\n",
        "\n",
        "                # zero the parameter gradients\n",
        "                optimizer.zero_grad()\n",
        "\n",
        "                # forward\n",
        "                # track history if only in train\n",
        "                with torch.set_grad_enabled(phase == 'train'):\n",
        "                    outputs = model(inputs)\n",
        "                    _, preds = torch.max(outputs, 1)\n",
        "                    loss = criterion(outputs, labels)\n",
        "\n",
        "                    # backward + optimize only if in training phase\n",
        "                    if phase == 'train':\n",
        "                        loss.backward()\n",
        "                        optimizer.step()\n",
        "\n",
        "                # statistics\n",
        "                running_loss += loss.item() * inputs.size(0)\n",
        "                running_corrects += torch.sum(preds == labels.data)\n",
        "            if phase == 'train':\n",
        "                scheduler.step()\n",
        "\n",
        "            epoch_loss = running_loss / types_size[phase]\n",
        "            epoch_acc = running_corrects.double() / types_size[phase]\n",
        "\n",
        "            print('{} Loss: {:.4f} Acc: {:.4f}'.format(\n",
        "                phase, epoch_loss, epoch_acc))\n",
        "\n",
        "            # deep copy the model\n",
        "            if phase == 'dev' and epoch_acc > best_acc:\n",
        "                best_acc = epoch_acc\n",
        "                best_model_wts = copy.deepcopy(model.state_dict())\n",
        "\n",
        "        print()\n",
        "\n",
        "    time_elapsed = time.time() - since\n",
        "    print('Training complete in {:.0f}m {:.0f}s'.format(\n",
        "        time_elapsed // 60, time_elapsed % 60))\n",
        "    print('Best val Acc: {:4f}'.format(best_acc))\n",
        "\n",
        "    # load best model weights\n",
        "    model.load_state_dict(best_model_wts)\n",
        "    return model"
      ],
      "execution_count": null,
      "outputs": []
    },
    {
      "cell_type": "code",
      "metadata": {
        "colab": {
          "base_uri": "https://localhost:8080/",
          "height": 831,
          "referenced_widgets": [
            "6b86f43292914ca984875ef78984a702",
            "4416126f2d8648368fca2ca9a6aba96c",
            "7a05a124fe6947109ad62dcbbfbf6e4d",
            "8e0c3647bce94f17a40dd5c20cf7d7a5",
            "1a8790f4060f464ab71ee366be90e384",
            "aa506727fa444417ae3156d4b597b7c4",
            "1e7a087b2dfc49229e5aa95764ea6529",
            "437b1f6dfec046b1955d7df283ddb0b9",
            "c80ab84e8458462e9e1d7eebe30a7d86",
            "d092c1bfae364db59fa39eb33011611a",
            "ae92907b4a254855be0d838fce99e408"
          ]
        },
        "id": "Xx0re7FVFsig",
        "outputId": "2013e46d-dd97-4edc-89e5-4b334be3adb2"
      },
      "source": [
        "model_ft = models.vgg16(pretrained=True)\n",
        "print(model_ft)"
      ],
      "execution_count": null,
      "outputs": [
        {
          "output_type": "stream",
          "name": "stderr",
          "text": [
            "Downloading: \"https://download.pytorch.org/models/vgg16-397923af.pth\" to /root/.cache/torch/hub/checkpoints/vgg16-397923af.pth\n"
          ]
        },
        {
          "output_type": "display_data",
          "data": {
            "application/vnd.jupyter.widget-view+json": {
              "model_id": "6b86f43292914ca984875ef78984a702",
              "version_minor": 0,
              "version_major": 2
            },
            "text/plain": [
              "  0%|          | 0.00/528M [00:00<?, ?B/s]"
            ]
          },
          "metadata": {}
        },
        {
          "output_type": "stream",
          "name": "stdout",
          "text": [
            "VGG(\n",
            "  (features): Sequential(\n",
            "    (0): Conv2d(3, 64, kernel_size=(3, 3), stride=(1, 1), padding=(1, 1))\n",
            "    (1): ReLU(inplace=True)\n",
            "    (2): Conv2d(64, 64, kernel_size=(3, 3), stride=(1, 1), padding=(1, 1))\n",
            "    (3): ReLU(inplace=True)\n",
            "    (4): MaxPool2d(kernel_size=2, stride=2, padding=0, dilation=1, ceil_mode=False)\n",
            "    (5): Conv2d(64, 128, kernel_size=(3, 3), stride=(1, 1), padding=(1, 1))\n",
            "    (6): ReLU(inplace=True)\n",
            "    (7): Conv2d(128, 128, kernel_size=(3, 3), stride=(1, 1), padding=(1, 1))\n",
            "    (8): ReLU(inplace=True)\n",
            "    (9): MaxPool2d(kernel_size=2, stride=2, padding=0, dilation=1, ceil_mode=False)\n",
            "    (10): Conv2d(128, 256, kernel_size=(3, 3), stride=(1, 1), padding=(1, 1))\n",
            "    (11): ReLU(inplace=True)\n",
            "    (12): Conv2d(256, 256, kernel_size=(3, 3), stride=(1, 1), padding=(1, 1))\n",
            "    (13): ReLU(inplace=True)\n",
            "    (14): Conv2d(256, 256, kernel_size=(3, 3), stride=(1, 1), padding=(1, 1))\n",
            "    (15): ReLU(inplace=True)\n",
            "    (16): MaxPool2d(kernel_size=2, stride=2, padding=0, dilation=1, ceil_mode=False)\n",
            "    (17): Conv2d(256, 512, kernel_size=(3, 3), stride=(1, 1), padding=(1, 1))\n",
            "    (18): ReLU(inplace=True)\n",
            "    (19): Conv2d(512, 512, kernel_size=(3, 3), stride=(1, 1), padding=(1, 1))\n",
            "    (20): ReLU(inplace=True)\n",
            "    (21): Conv2d(512, 512, kernel_size=(3, 3), stride=(1, 1), padding=(1, 1))\n",
            "    (22): ReLU(inplace=True)\n",
            "    (23): MaxPool2d(kernel_size=2, stride=2, padding=0, dilation=1, ceil_mode=False)\n",
            "    (24): Conv2d(512, 512, kernel_size=(3, 3), stride=(1, 1), padding=(1, 1))\n",
            "    (25): ReLU(inplace=True)\n",
            "    (26): Conv2d(512, 512, kernel_size=(3, 3), stride=(1, 1), padding=(1, 1))\n",
            "    (27): ReLU(inplace=True)\n",
            "    (28): Conv2d(512, 512, kernel_size=(3, 3), stride=(1, 1), padding=(1, 1))\n",
            "    (29): ReLU(inplace=True)\n",
            "    (30): MaxPool2d(kernel_size=2, stride=2, padding=0, dilation=1, ceil_mode=False)\n",
            "  )\n",
            "  (avgpool): AdaptiveAvgPool2d(output_size=(7, 7))\n",
            "  (classifier): Sequential(\n",
            "    (0): Linear(in_features=25088, out_features=4096, bias=True)\n",
            "    (1): ReLU(inplace=True)\n",
            "    (2): Dropout(p=0.5, inplace=False)\n",
            "    (3): Linear(in_features=4096, out_features=4096, bias=True)\n",
            "    (4): ReLU(inplace=True)\n",
            "    (5): Dropout(p=0.5, inplace=False)\n",
            "    (6): Linear(in_features=4096, out_features=1000, bias=True)\n",
            "  )\n",
            ")\n"
          ]
        }
      ]
    },
    {
      "cell_type": "code",
      "metadata": {
        "id": "bPzNsv5DmBAi"
      },
      "source": [
        "# change the number of classes \n",
        "model_ft.classifier[6].out_features = len(types_names)\n",
        "# freeze convolution weights\n",
        "for param in model_ft.features.parameters():\n",
        "    param.requires_grad = False\n",
        "\n",
        "model_ft = model_ft.to(device)\n",
        "\n",
        "criterion = nn.CrossEntropyLoss()\n",
        "\n",
        "optimizer_ft = optim.SGD(model_ft.parameters(), lr=0.01, momentum=0.9)\n",
        "\n",
        "# Decay LR by a factor of 0.1 every 5 epochs\n",
        "exp_lr_scheduler = lr_scheduler.StepLR(optimizer_ft, step_size=5, gamma=0.1)"
      ],
      "execution_count": null,
      "outputs": []
    },
    {
      "cell_type": "code",
      "metadata": {
        "colab": {
          "base_uri": "https://localhost:8080/"
        },
        "id": "jl0tm3p-mvaU",
        "outputId": "5c9cdcf8-17ba-446d-db09-f6597683731a"
      },
      "source": [
        "model_types = train_types(model_ft, criterion, optimizer_ft, exp_lr_scheduler,\n",
        "                       num_epochs=15)"
      ],
      "execution_count": null,
      "outputs": [
        {
          "output_type": "stream",
          "name": "stdout",
          "text": [
            "Epoch 0/14\n",
            "----------\n"
          ]
        },
        {
          "output_type": "stream",
          "name": "stderr",
          "text": [
            "/usr/local/lib/python3.7/dist-packages/torch/nn/functional.py:718: UserWarning: Named tensors and all their associated APIs are an experimental feature and subject to change. Please do not use them for anything important until they are released as stable. (Triggered internally at  /pytorch/c10/core/TensorImpl.h:1156.)\n",
            "  return torch.max_pool2d(input, kernel_size, stride, padding, dilation, ceil_mode)\n"
          ]
        },
        {
          "output_type": "stream",
          "name": "stdout",
          "text": [
            "train Loss: 1.1708 Acc: 0.6554\n",
            "dev Loss: 0.7095 Acc: 0.7476\n",
            "\n",
            "Epoch 1/14\n",
            "----------\n",
            "train Loss: 0.7785 Acc: 0.7359\n",
            "dev Loss: 0.6332 Acc: 0.7882\n",
            "\n",
            "Epoch 2/14\n",
            "----------\n",
            "train Loss: 0.7037 Acc: 0.7586\n",
            "dev Loss: 0.6154 Acc: 0.7860\n",
            "\n",
            "Epoch 3/14\n",
            "----------\n",
            "train Loss: 0.6849 Acc: 0.7628\n",
            "dev Loss: 0.6333 Acc: 0.7769\n",
            "\n",
            "Epoch 4/14\n",
            "----------\n",
            "train Loss: 0.6671 Acc: 0.7719\n",
            "dev Loss: 0.6741 Acc: 0.7724\n",
            "\n",
            "Epoch 5/14\n",
            "----------\n",
            "train Loss: 0.5926 Acc: 0.7948\n",
            "dev Loss: 0.5568 Acc: 0.8176\n",
            "\n",
            "Epoch 6/14\n",
            "----------\n",
            "train Loss: 0.5570 Acc: 0.8075\n",
            "dev Loss: 0.5450 Acc: 0.8214\n",
            "\n",
            "Epoch 7/14\n",
            "----------\n",
            "train Loss: 0.5370 Acc: 0.8159\n",
            "dev Loss: 0.5444 Acc: 0.8222\n",
            "\n",
            "Epoch 8/14\n",
            "----------\n",
            "train Loss: 0.5264 Acc: 0.8187\n",
            "dev Loss: 0.5292 Acc: 0.8267\n",
            "\n",
            "Epoch 9/14\n",
            "----------\n",
            "train Loss: 0.5073 Acc: 0.8256\n",
            "dev Loss: 0.5270 Acc: 0.8304\n",
            "\n",
            "Epoch 10/14\n",
            "----------\n",
            "train Loss: 0.5045 Acc: 0.8272\n",
            "dev Loss: 0.5249 Acc: 0.8335\n",
            "\n",
            "Epoch 11/14\n",
            "----------\n",
            "train Loss: 0.5091 Acc: 0.8251\n",
            "dev Loss: 0.5243 Acc: 0.8289\n",
            "\n",
            "Epoch 12/14\n",
            "----------\n",
            "train Loss: 0.4887 Acc: 0.8320\n",
            "dev Loss: 0.5233 Acc: 0.8320\n",
            "\n",
            "Epoch 13/14\n",
            "----------\n",
            "train Loss: 0.5054 Acc: 0.8250\n",
            "dev Loss: 0.5227 Acc: 0.8312\n",
            "\n",
            "Epoch 14/14\n",
            "----------\n",
            "train Loss: 0.5110 Acc: 0.8264\n",
            "dev Loss: 0.5214 Acc: 0.8304\n",
            "\n",
            "Training complete in 86m 4s\n",
            "Best val Acc: 0.833459\n"
          ]
        }
      ]
    },
    {
      "cell_type": "code",
      "metadata": {
        "id": "qCa0pto2b3xR"
      },
      "source": [
        "torch.save(model_types.state_dict(), curr+\"model_types4.pth\")"
      ],
      "execution_count": null,
      "outputs": []
    },
    {
      "cell_type": "markdown",
      "metadata": {
        "id": "GBtvMfCv9MqY"
      },
      "source": [
        "# Load Trained Net"
      ]
    },
    {
      "cell_type": "code",
      "metadata": {
        "id": "T_ibqBif9IT0"
      },
      "source": [
        "model_ft = models.vgg16(pretrained=False)\n",
        "# change the number of classes \n",
        "model_ft.classifier[6].out_features = len(types_names)\n",
        "# freeze convolution weights\n",
        "for param in model_ft.features.parameters():\n",
        "    param.requires_grad = False\n",
        "\n",
        "model_ft.load_state_dict(torch.load(curr+\"model_types4.pth\"))\n",
        "\n",
        "model_ft = model_ft.to(device)"
      ],
      "execution_count": null,
      "outputs": []
    },
    {
      "cell_type": "code",
      "metadata": {
        "id": "MKTvdh-1x1xm"
      },
      "source": [
        "test_loader = DataLoader(types_test, batch_size=64, shuffle=True, num_workers=2)"
      ],
      "execution_count": null,
      "outputs": []
    },
    {
      "cell_type": "code",
      "metadata": {
        "id": "etPqpDNDxOWr"
      },
      "source": [
        "preds, real = [], []\n",
        "for images, labels in test_loader:\n",
        "  images, labels = images.to(device), labels.to(device)\n",
        "  real += labels.tolist()\n",
        "  with torch.no_grad():\n",
        "    output = model_ft(images)\n",
        "    _, predicted = torch.max(output, 1)\n",
        "    preds += predicted.tolist()"
      ],
      "execution_count": null,
      "outputs": []
    },
    {
      "cell_type": "code",
      "metadata": {
        "id": "abHQAkNF0KYa"
      },
      "source": [
        "from sklearn import metrics"
      ],
      "execution_count": null,
      "outputs": []
    },
    {
      "cell_type": "code",
      "metadata": {
        "colab": {
          "base_uri": "https://localhost:8080/"
        },
        "id": "xRFqeu4u1R0p",
        "outputId": "7a69d2f4-6c74-47ac-a408-a4a8d9822b83"
      },
      "source": [
        "print(metrics.classification_report(real, preds, target_names=types_names))"
      ],
      "execution_count": null,
      "outputs": [
        {
          "output_type": "stream",
          "name": "stdout",
          "text": [
            "              precision    recall  f1-score   support\n",
            "\n",
            "  earthquake       0.80      0.82      0.81       404\n",
            "        fire       0.84      0.89      0.86       280\n",
            "       flood       0.82      0.85      0.84       599\n",
            "   hurricane       0.71      0.64      0.67       352\n",
            "   landslide       0.76      0.83      0.79       268\n",
            "not_disaster       0.91      0.88      0.89       990\n",
            "\n",
            "    accuracy                           0.83      2893\n",
            "   macro avg       0.81      0.82      0.81      2893\n",
            "weighted avg       0.83      0.83      0.83      2893\n",
            "\n"
          ]
        }
      ]
    },
    {
      "cell_type": "code",
      "metadata": {
        "colab": {
          "base_uri": "https://localhost:8080/",
          "height": 347
        },
        "id": "U6ZvA4NU4wQY",
        "outputId": "18b73668-5601-49af-8fe2-5f91d921b91e"
      },
      "source": [
        "import seaborn as sns\n",
        "\n",
        "cm = metrics.confusion_matrix(real, preds)\n",
        "f = sns.heatmap(cm, annot=True, xticklabels=types_names, yticklabels=types_names)\n",
        "plt.title(\"Confusion Matrix\")\n",
        "plt.xlabel(\"Actual Disasters\")\n",
        "plt.ylabel(\"Predicted Disasters\") \n",
        "plt.show()"
      ],
      "execution_count": null,
      "outputs": [
        {
          "output_type": "display_data",
          "data": {
            "image/png": "[encoded data removed]",
            "text/plain": [
              "<Figure size 432x288 with 2 Axes>"
            ]
          },
          "metadata": {
            "needs_background": "light"
          }
        }
      ]
    },
    {
      "cell_type": "markdown",
      "metadata": {
        "id": "AGk3DILL6uMO"
      },
      "source": [
        "# Codes borrowed and adjusted from:\n",
        "\n",
        "\n",
        "1.  [PyTorch Tutorials](https://pytorch.org/tutorials/beginner/basics/data_tutorial.html#creating-a-custom-dataset-for-your-files)\n",
        "2.  [Transfer Learning for Computer Vision Tutorial](https://pytorch.org/tutorials/beginner/transfer_learning_tutorial.html)\n",
        "3.  [Transfer Learning with PyTorch](https://debuggercafe.com/transfer-learning-with-pytorch/)\n",
        "\n",
        "\n"
      ]
    }
  ]
}